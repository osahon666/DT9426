{
 "cells": [
  {
   "cell_type": "code",
   "execution_count": 1,
   "metadata": {},
   "outputs": [
    {
     "name": "stdout",
     "output_type": "stream",
     "text": [
      "33514.666666666664  koded\n"
     ]
    }
   ],
   "source": [
    "#assign variables\n",
    "r = 20\n",
    "Π = 3.142\n",
    "\n",
    "#assign formular V = 4/3.Π.r3\n",
    "20\n",
    "V = 4/3 * Π * (r)**3\n",
    "print(str(V) + \"  koded\")"
   ]
  },
  {
   "cell_type": "code",
   "execution_count": null,
   "metadata": {},
   "outputs": [],
   "source": [
    "#assign variables\n",
    "r = input()\n",
    "#assign variable to r\n",
    "p = int(r)\n",
    "Π = 3.142\n",
    "\n",
    "#assign formular V = 4/3.Π.r3\n",
    "V = 4/3 * Π * (p)**3\n",
    "\n",
    "print(str(V) + \"  koded\")\n"
   ]
  },
  {
   "cell_type": "code",
   "execution_count": null,
   "metadata": {},
   "outputs": [],
   "source": [
    "#assign variables\n",
    "r = input(\"radius\")\n",
    "h = input(\"height\")\n",
    "π = 3.142\n",
    "\n",
    "#assign variables to h and r\n",
    "p = int(r)\n",
    "z = int(h)\n",
    "\n",
    "#assign variables as V=πr2h\n",
    "\n",
    "V = π * (p)**2 * (z)\n",
    "\n",
    "print(str(V) + \"  koded\") "
   ]
  },
  {
   "cell_type": "code",
   "execution_count": null,
   "metadata": {},
   "outputs": [],
   "source": [
    "#assign variables\n",
    "r = input(\"radius\")\n",
    "h = input(\"height\")\n",
    "π = 3.142\n",
    "#assign variables  to h and r\n",
    "p = int(r)\n",
    "z = int(h)\n",
    "#assign variables as V=πr2h/3\n",
    "\n",
    "V = π * (p)**2 * (z) / 3\n",
    "print(str(V) + \" koded\")"
   ]
  },
  {
   "cell_type": "code",
   "execution_count": null,
   "metadata": {
    "scrolled": true
   },
   "outputs": [],
   "source": [
    "#assign variables \n",
    "ride1 = input(\"distance (km)=\") \n",
    "a = int(ride1) \n",
    "ride2 =input(\"distance (km)=\") \n",
    "b = int(ride2) \n",
    "f = input(\"fuel used (litres)=\") \n",
    "c = int(f)\n",
    "e = (a - b)/c\n",
    "\n",
    "print(str(e) + \"koded\")"
   ]
  },
  {
   "cell_type": "code",
   "execution_count": null,
   "metadata": {},
   "outputs": [],
   "source": [
    "#assign variables\n",
    "F = input(\"fahrenhite\")\n",
    "p = float(F)\n",
    "#write formula c = (F) - 32 * 5 / 9\n",
    "c = ((p - 32)) * 5 / 9\n",
    "print(str(c) + \"°C koded\")\n"
   ]
  },
  {
   "cell_type": "code",
   "execution_count": null,
   "metadata": {},
   "outputs": [],
   "source": [
    "#assign variables\n",
    "C = input(\"celsius\")\n",
    "p = float(C)\n",
    "#write formula F = (c * 9/5 + 32\n",
    "f = ((p * 9) / 5) + 32\n",
    "     \n",
    "print(str(f) + \"°f koded\")"
   ]
  }
 ],
 "metadata": {
  "kernelspec": {
   "display_name": "Python 3",
   "language": "python",
   "name": "python3"
  },
  "language_info": {
   "codemirror_mode": {
    "name": "ipython",
    "version": 3
   },
   "file_extension": ".py",
   "mimetype": "text/x-python",
   "name": "python",
   "nbconvert_exporter": "python",
   "pygments_lexer": "ipython3",
   "version": "3.7.0"
  }
 },
 "nbformat": 4,
 "nbformat_minor": 2
}
