{
 "cells": [
  {
   "cell_type": "code",
   "execution_count": 11,
   "metadata": {},
   "outputs": [
    {
     "name": "stdout",
     "output_type": "stream",
     "text": [
      "{'o': 3, 'l': 2, 'd': 4, ' ': 9, 'm': 2, 'c': 1, 'n': 1, 'a': 4, 'h': 1, 'f': 1, 'r': 1, ',': 1, 'e': 2, 'i': 2}\n"
     ]
    }
   ],
   "source": [
    "  Write a Python program to count the number of times \n",
    "a character appears in a string. # hint a dict will be really useful here!!!\n",
    "\n",
    "the_string = \"Old McDonald had a farm, e i e i o\"\n",
    "\n",
    "letter_dict = {}\n",
    "\n",
    "for l in the_string:\n",
    "    l = l.lower()\n",
    "    if l in letter_dict:\n",
    "        letter_dict[l] += 1\n",
    "    else:\n",
    "        letter_dict[l] = 1\n",
    "\n",
    "print(letter_dict)"
   ]
  },
  {
   "cell_type": "code",
   "execution_count": 13,
   "metadata": {},
   "outputs": [
    {
     "name": "stdout",
     "output_type": "stream",
     "text": [
      "Clet\n"
     ]
    }
   ],
   "source": [
    " a_string = \"Clanbrassil Street\"\n",
    "\n",
    "new_string = a_string[:2] + a_string[-2:]\n",
    "\n",
    "print(new_string)"
   ]
  },
  {
   "cell_type": "code",
   "execution_count": 14,
   "metadata": {},
   "outputs": [
    {
     "name": "stdout",
     "output_type": "stream",
     "text": [
      "egam spgs\n"
     ]
    }
   ],
   "source": [
    "string_a = \"spam eggs\"\n",
    "\n",
    "x = string_a.split(' ')\n",
    "\n",
    "modified_string =  x[1][:2] + x[0][2:] + ' ' + x[0][:2] + x[1][2:] \n",
    "\n",
    "print(modified_string)"
   ]
  },
  {
   "cell_type": "code",
   "execution_count": 1,
   "metadata": {},
   "outputs": [],
   "source": [
    "words = [\"hey\", \"now\", \"you're\", \"a\", \"rock\", \"star\"]\n",
    "\n",
    "word_length = 0\n",
    "\n",
    "for w in words:\n",
    "    if len(w) > word_length:\n",
    "        word_length = len(w)\n",
    "        the_longest_word = w"
   ]
  },
  {
   "cell_type": "code",
   "execution_count": 2,
   "metadata": {},
   "outputs": [
    {
     "name": "stdout",
     "output_type": "stream",
     "text": [
      "{1: 1, 2: 4, 3: 9, 4: 16, 5: 25, 6: 36, 7: 49, 8: 64, 9: 81, 10: 100, 11: 121, 12: 144, 13: 169, 14: 196, 15: 225}\n"
     ]
    }
   ],
   "source": [
    "num_dict = {}\n",
    "\n",
    "for i in range(1,16):\n",
    "    num_dict[i] = i**2\n",
    "    \n",
    "print(num_dict)"
   ]
  },
  {
   "cell_type": "code",
   "execution_count": 3,
   "metadata": {},
   "outputs": [
    {
     "name": "stdout",
     "output_type": "stream",
     "text": [
      "Sum of keys =  120 \n",
      "Sum of values =  1240 \n",
      "Sum of all keys and all values =  1360\n"
     ]
    }
   ],
   "source": [
    "key_sum = 0\n",
    "value_sum = 0\n",
    "\n",
    "for k, v in num_dict.items():\n",
    "    key_sum += k\n",
    "    value_sum += v\n",
    "    \n",
    "print(\"Sum of keys = \", key_sum,\n",
    "      \"\\nSum of values = \", value_sum,\n",
    "      \"\\nSum of all keys and all values = \", key_sum + value_sum)"
   ]
  },
  {
   "cell_type": "code",
   "execution_count": 4,
   "metadata": {},
   "outputs": [
    {
     "name": "stdout",
     "output_type": "stream",
     "text": [
      "Max value =  5874\n",
      "Min value =  500\n"
     ]
    }
   ],
   "source": [
    "sample_dict = {'x':500, 'y':5874, 'z': 560}\n",
    "\n",
    "print(\"Max value = \", max(sample_dict.values()))\n",
    "print(\"Min value = \", min(sample_dict.values()))"
   ]
  },
  {
   "cell_type": "code",
   "execution_count": null,
   "metadata": {},
   "outputs": [],
   "source": [
    "quit = False\n",
    "\n",
    "user_ct = 1\n",
    "user_dict = {}\n",
    "\n",
    "while not quit:\n",
    "    choice = input(\"Welcome to data logger - would you like to enter a new person? Y or N\")\n",
    "    if choice == 'Y':\n",
    "        user_ct += 1\n",
    "        new_name = input(\"Please enter the name\")\n",
    "        new_email = input(\"Please enter the email\")\n",
    "        new_dob = input(\"Please enter a date of birth\")\n",
    "        user_dict[user_ct] = [new_name, new_email, new_dob]\n",
    "    elif choice == 'N':\n",
    "        quit = True\n",
    "    else:\n",
    "        quit = True\n",
    "        \n",
    "print(user_dict)"
   ]
  },
  {
   "cell_type": "code",
   "execution_count": null,
   "metadata": {},
   "outputs": [],
   "source": []
  }
 ],
 "metadata": {
  "kernelspec": {
   "display_name": "Python 3",
   "language": "python",
   "name": "python3"
  },
  "language_info": {
   "codemirror_mode": {
    "name": "ipython",
    "version": 3
   },
   "file_extension": ".py",
   "mimetype": "text/x-python",
   "name": "python",
   "nbconvert_exporter": "python",
   "pygments_lexer": "ipython3",
   "version": "3.7.0"
  }
 },
 "nbformat": 4,
 "nbformat_minor": 2
}
